{
 "cells": [
  {
   "cell_type": "code",
   "execution_count": 3,
   "metadata": {},
   "outputs": [],
   "source": [
    "class HousePark:\n",
    "    lastname = '박'\n",
    "    def setname(self, name):\n",
    "        self.fullname = self.lastname + name\n",
    "    \n",
    "    def travel(self, where):\n",
    "        print(\"%s, %s 여행을 가다.\"%(self.fullname,where))"
   ]
  },
  {
   "cell_type": "code",
   "execution_count": 4,
   "metadata": {},
   "outputs": [
    {
     "name": "stdout",
     "output_type": "stream",
     "text": [
      "박응용, 제주도 여행을 가다.\n"
     ]
    }
   ],
   "source": [
    "pey = HousePark()\n",
    "pey.setname('응용')\n",
    "pey.travel('제주도')"
   ]
  },
  {
   "cell_type": "code",
   "execution_count": 5,
   "metadata": {},
   "outputs": [
    {
     "ename": "AttributeError",
     "evalue": "'HousePark' object has no attribute 'fullname'",
     "output_type": "error",
     "traceback": [
      "\u001b[0;31m---------------------------------------------------------------------------\u001b[0m",
      "\u001b[0;31mAttributeError\u001b[0m                            Traceback (most recent call last)",
      "\u001b[0;32m<ipython-input-5-8e59ab12e050>\u001b[0m in \u001b[0;36m<module>\u001b[0;34m\u001b[0m\n\u001b[1;32m      1\u001b[0m \u001b[0mpey\u001b[0m \u001b[0;34m=\u001b[0m \u001b[0mHousePark\u001b[0m\u001b[0;34m(\u001b[0m\u001b[0;34m)\u001b[0m\u001b[0;34m\u001b[0m\u001b[0;34m\u001b[0m\u001b[0m\n\u001b[0;32m----> 2\u001b[0;31m \u001b[0mpey\u001b[0m\u001b[0;34m.\u001b[0m\u001b[0mtravel\u001b[0m\u001b[0;34m(\u001b[0m\u001b[0;34m'부산'\u001b[0m\u001b[0;34m)\u001b[0m \u001b[0;31m# self.fullname 지정안해줘서 에러남\u001b[0m\u001b[0;34m\u001b[0m\u001b[0;34m\u001b[0m\u001b[0m\n\u001b[0m",
      "\u001b[0;32m<ipython-input-3-15af788ca34a>\u001b[0m in \u001b[0;36mtravel\u001b[0;34m(self, where)\u001b[0m\n\u001b[1;32m      5\u001b[0m \u001b[0;34m\u001b[0m\u001b[0m\n\u001b[1;32m      6\u001b[0m     \u001b[0;32mdef\u001b[0m \u001b[0mtravel\u001b[0m\u001b[0;34m(\u001b[0m\u001b[0mself\u001b[0m\u001b[0;34m,\u001b[0m \u001b[0mwhere\u001b[0m\u001b[0;34m)\u001b[0m\u001b[0;34m:\u001b[0m\u001b[0;34m\u001b[0m\u001b[0;34m\u001b[0m\u001b[0m\n\u001b[0;32m----> 7\u001b[0;31m         \u001b[0mprint\u001b[0m\u001b[0;34m(\u001b[0m\u001b[0;34m\"%s, %s 여행을 가다.\"\u001b[0m\u001b[0;34m%\u001b[0m\u001b[0;34m(\u001b[0m\u001b[0mself\u001b[0m\u001b[0;34m.\u001b[0m\u001b[0mfullname\u001b[0m\u001b[0;34m,\u001b[0m\u001b[0mwhere\u001b[0m\u001b[0;34m)\u001b[0m\u001b[0;34m)\u001b[0m\u001b[0;34m\u001b[0m\u001b[0;34m\u001b[0m\u001b[0m\n\u001b[0m",
      "\u001b[0;31mAttributeError\u001b[0m: 'HousePark' object has no attribute 'fullname'"
     ]
    }
   ],
   "source": [
    "pey = HousePark()\n",
    "pey.travel('부산') # self.fullname 지정안해줘서 에러남"
   ]
  },
  {
   "cell_type": "code",
   "execution_count": 10,
   "metadata": {},
   "outputs": [],
   "source": [
    "#클래스 변경\n",
    "class HousePark:\n",
    "    lastname = '박'\n",
    "    def __init__(self, name):\n",
    "        self.fullname = self.lastname + name\n",
    "    \n",
    "    def travel(self, where):\n",
    "        print(\"%s, %s 여행을 가다.\"%(self.fullname,where))"
   ]
  },
  {
   "cell_type": "code",
   "execution_count": 12,
   "metadata": {},
   "outputs": [
    {
     "name": "stdout",
     "output_type": "stream",
     "text": [
      "박응용, 부산 여행을 가다.\n"
     ]
    }
   ],
   "source": [
    "pey = HousePark('응용')\n",
    "pey.travel('부산')"
   ]
  },
  {
   "cell_type": "markdown",
   "metadata": {},
   "source": [
    "# 클래스의 상속"
   ]
  },
  {
   "cell_type": "code",
   "execution_count": 13,
   "metadata": {},
   "outputs": [],
   "source": [
    "class HouseKim(HousePark):\n",
    "    lastname = '김'"
   ]
  },
  {
   "cell_type": "code",
   "execution_count": 14,
   "metadata": {},
   "outputs": [
    {
     "name": "stdout",
     "output_type": "stream",
     "text": [
      "김줄리엣, 제주도 여행을 가다.\n"
     ]
    }
   ],
   "source": [
    "juliet = HouseKim('줄리엣')\n",
    "juliet.travel('제주도')"
   ]
  },
  {
   "cell_type": "markdown",
   "metadata": {},
   "source": [
    "# 메서드 오버라이딩\n",
    "오버라이딩 : 상속 대상 클래스의 멤버메소드와 이름은 같지만 다른 연산을 하는 메소드 정의\n",
    "\n",
    "오버로딩 : 같은 함수의 이름을 가지지만 매개변수 타입이 다르거나 개수가 달라야한다."
   ]
  },
  {
   "cell_type": "code",
   "execution_count": 15,
   "metadata": {},
   "outputs": [],
   "source": [
    "class HouseKim(HousePark):\n",
    "    lastname = '김'\n",
    "    def travel(self, where, day):\n",
    "        print(\"%s, %s여행 %d일 간다.\"%(self.fullname, where, day))"
   ]
  },
  {
   "cell_type": "code",
   "execution_count": 18,
   "metadata": {},
   "outputs": [
    {
     "ename": "TypeError",
     "evalue": "travel() missing 1 required positional argument: 'day'",
     "output_type": "error",
     "traceback": [
      "\u001b[0;31m---------------------------------------------------------------------------\u001b[0m",
      "\u001b[0;31mTypeError\u001b[0m                                 Traceback (most recent call last)",
      "\u001b[0;32m<ipython-input-18-4f70c6482a54>\u001b[0m in \u001b[0;36m<module>\u001b[0;34m\u001b[0m\n\u001b[1;32m      1\u001b[0m \u001b[0mjuliet\u001b[0m \u001b[0;34m=\u001b[0m \u001b[0mHouseKim\u001b[0m\u001b[0;34m(\u001b[0m\u001b[0;34m'줄리엣'\u001b[0m\u001b[0;34m)\u001b[0m\u001b[0;34m\u001b[0m\u001b[0;34m\u001b[0m\u001b[0m\n\u001b[0;32m----> 2\u001b[0;31m \u001b[0mjuliet\u001b[0m\u001b[0;34m.\u001b[0m\u001b[0mtravel\u001b[0m\u001b[0;34m(\u001b[0m\u001b[0;34m'제주도'\u001b[0m\u001b[0;34m)\u001b[0m \u001b[0;31m# 오버라이딩했기때문에 재정의한 메서드에 맞춰서 사용해야한다.\u001b[0m\u001b[0;34m\u001b[0m\u001b[0;34m\u001b[0m\u001b[0m\n\u001b[0m",
      "\u001b[0;31mTypeError\u001b[0m: travel() missing 1 required positional argument: 'day'"
     ]
    }
   ],
   "source": [
    "juliet = HouseKim('줄리엣')\n",
    "juliet.travel('제주도') # 오버라이딩했기때문에 재정의한 메서드에 맞춰서 사용해야한다."
   ]
  },
  {
   "cell_type": "code",
   "execution_count": 19,
   "metadata": {},
   "outputs": [
    {
     "name": "stdout",
     "output_type": "stream",
     "text": [
      "김줄리엣, 제주도여행 3일 간다.\n"
     ]
    }
   ],
   "source": [
    "juliet.travel('제주도',3)"
   ]
  },
  {
   "cell_type": "code",
   "execution_count": 21,
   "metadata": {},
   "outputs": [],
   "source": [
    "pey = HousePark(\"응용\")\n",
    "juliet = HouseKim(\"줄리엣\")"
   ]
  },
  {
   "cell_type": "code",
   "execution_count": 23,
   "metadata": {},
   "outputs": [],
   "source": [
    "class HousePark:\n",
    "    lastname = '박'\n",
    "    def __init__(self, name):\n",
    "        self.fullname = self.lastname + name\n",
    "    def travel(self, where):\n",
    "        print('%s, %s여행을 가다.'%(self.fullname, where))\n",
    "    def love(self, other):\n",
    "        print(\"%s, %s 사랑에 빠졌네\"%(self.fullname, other.fullname))\n",
    "    def __add__(self, other): # 연산자 오버로딩\n",
    "        print(\"%s, %s 결혼했네\"%(self.fullname, other.fullname))\n",
    "\n",
    "class HouseKim(HousePark):\n",
    "    lastname = '김'\n",
    "    def travel(self, where, day):\n",
    "        print(\"%s, %s 여행을 %d일 가다.\"%(self.fullname, where, day))"
   ]
  },
  {
   "cell_type": "code",
   "execution_count": 24,
   "metadata": {},
   "outputs": [
    {
     "name": "stdout",
     "output_type": "stream",
     "text": [
      "박응용, 김줄리엣 사랑에 빠졌네\n",
      "박응용, 김줄리엣 결혼했네\n"
     ]
    }
   ],
   "source": [
    "pey = HousePark('응용')\n",
    "juliet = HouseKim('줄리엣')\n",
    "pey.love(juliet)\n",
    "pey+juliet #연산자 오버로딩"
   ]
  }
 ],
 "metadata": {
  "kernelspec": {
   "display_name": "Python 3",
   "language": "python",
   "name": "python3"
  },
  "language_info": {
   "codemirror_mode": {
    "name": "ipython",
    "version": 3
   },
   "file_extension": ".py",
   "mimetype": "text/x-python",
   "name": "python",
   "nbconvert_exporter": "python",
   "pygments_lexer": "ipython3",
   "version": "3.7.3"
  }
 },
 "nbformat": 4,
 "nbformat_minor": 2
}
